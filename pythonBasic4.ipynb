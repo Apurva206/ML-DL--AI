{
 "cells": [
  {
   "cell_type": "code",
   "execution_count": 1,
   "metadata": {},
   "outputs": [
    {
     "name": "stdout",
     "output_type": "stream",
     "text": [
      "or yeh to bada hai\n",
      "yeh bhi theek hai\n",
      "yeh ho gya\n",
      "sab khatam\n"
     ]
    }
   ],
   "source": [
    "#suites in python (indentation terminology)\n",
    "###################################################\n",
    "#statement:\n",
    "#       content\n",
    "#       content\n",
    "#statement2:\n",
    "#       content\n",
    "#statement3:\n",
    "#       content\n",
    "\n",
    "a=10\n",
    "if(a>5):\n",
    "    print(\"or yeh to bada hai\")\n",
    "    if(a<100):\n",
    "        print(\"yeh bhi theek hai\")\n",
    "    print('yeh ho gya')\n",
    "elif (a < -20):\n",
    "    print(\"yeh bhut chota hai\")\n",
    "else:\n",
    "    print(\"yeh theek hai\")\n",
    "print(\"sab khatam\")\n"
   ]
  },
  {
   "cell_type": "code",
   "execution_count": null,
   "metadata": {},
   "outputs": [],
   "source": [
    "#conditional statement\n",
    "    #1. if-elif-else\n",
    "#looping\n",
    "    #1. while-else\n",
    "    #2. for-else\n",
    "    #continue/break\n",
    "#error handling\n",
    "    #try-except-else-finally\n",
    "\n",
    "#user defined function  \n",
    "    #def\n",
    "#classes\n",
    "    #class\n"
   ]
  },
  {
   "cell_type": "code",
   "execution_count": 2,
   "metadata": {},
   "outputs": [
    {
     "name": "stdout",
     "output_type": "stream",
     "text": [
      "hello\n",
      "hello\n",
      "hello\n",
      "hello\n",
      "hello\n",
      "hello\n",
      "hello\n"
     ]
    }
   ],
   "source": [
    "a=20\n",
    "while a>0:\n",
    "    print('hello')\n",
    "    a-=3"
   ]
  },
  {
   "cell_type": "code",
   "execution_count": 5,
   "metadata": {},
   "outputs": [
    {
     "name": "stdout",
     "output_type": "stream",
     "text": [
      "hello 20\n",
      "one more\n",
      "hello 17\n",
      "one more\n",
      "hello 14\n"
     ]
    }
   ],
   "source": [
    "a=20\n",
    "while a>0:\n",
    "    print('hello',a)\n",
    "    a-=3\n",
    "    if(a==11):\n",
    "        break\n",
    "    if(a<10):\n",
    "        continue\n",
    "    print('one more')"
   ]
  },
  {
   "cell_type": "code",
   "execution_count": 7,
   "metadata": {},
   "outputs": [
    {
     "name": "stdout",
     "output_type": "stream",
     "text": [
      "hello 20\n",
      "one more\n",
      "hello 17\n",
      "one more\n",
      "hello 14\n",
      "one more\n",
      "hello 11\n",
      "hello 8\n",
      "hello 5\n",
      "hello 2\n",
      "okay\n"
     ]
    }
   ],
   "source": [
    "a=20\n",
    "while a>0:\n",
    "    print('hello',a)\n",
    "    a-=3\n",
    "    #if(a==11):\n",
    "        #break\n",
    "    if(a<10):\n",
    "        continue\n",
    "    print('one more')\n",
    "else:\n",
    "    print('okay')"
   ]
  },
  {
   "cell_type": "code",
   "execution_count": null,
   "metadata": {},
   "outputs": [],
   "source": []
  }
 ],
 "metadata": {
  "kernelspec": {
   "display_name": "base",
   "language": "python",
   "name": "python3"
  },
  "language_info": {
   "codemirror_mode": {
    "name": "ipython",
    "version": 3
   },
   "file_extension": ".py",
   "mimetype": "text/x-python",
   "name": "python",
   "nbconvert_exporter": "python",
   "pygments_lexer": "ipython3",
   "version": "3.10.2"
  },
  "orig_nbformat": 4
 },
 "nbformat": 4,
 "nbformat_minor": 2
}
